{
 "cells": [
  {
   "cell_type": "code",
   "execution_count": 3,
   "id": "fc59a7d4",
   "metadata": {},
   "outputs": [
    {
     "name": "stdout",
     "output_type": "stream",
     "text": [
      "What's your name?\n",
      "common\n",
      "Which country do you stay in?\n",
      "Eastern Africa\n",
      "\n",
      "\n"
     ]
    }
   ],
   "source": [
    "import requests\n",
    "base_url = 'https://restcountries.com/v3.1/all'\n",
    "resp = requests.get(base_url)\n",
    "data = resp.json()\n",
    "print(\"What's your name?\")\n",
    "user_name = input()\n",
    "print(\"Which country do you stay in?\")\n",
    "user_country= input()\n",
    "print(\"\\n\")\n",
    "for country in data:\n",
    "    if(country['name'] == user_country):\n",
    "        print(\"Nice to meet you, (} 111\".format(user_name))\n",
    "        print(\"I really like your country (), especially your country's capital (}\".format(user_country, country['capital']))"
   ]
  },
  {
   "cell_type": "code",
   "execution_count": 4,
   "id": "5be71022",
   "metadata": {},
   "outputs": [
    {
     "name": "stdout",
     "output_type": "stream",
     "text": [
      "9\n"
     ]
    }
   ],
   "source": [
    "f=open('raja_file.txt',mode='r')\n",
    "number_of_lines = 0\n",
    "for line in f:\n",
    "    number_of_lines+=1\n",
    "    line=line.strip(\"\\n\")\n",
    "    \n",
    "f.close()\n",
    "print(number_of_lines)"
   ]
  },
  {
   "cell_type": "code",
   "execution_count": 6,
   "id": "8a30ff83",
   "metadata": {},
   "outputs": [
    {
     "name": "stdout",
     "output_type": "stream",
     "text": [
      "Admission_Prediction.csv\n",
      "C:/Users/Rajakumar/Desktop/CSV File/Files-main\\Admission_Prediction.csv\n",
      "Advertising.csv\n",
      "C:/Users/Rajakumar/Desktop/CSV File/Files-main\\Advertising.csv\n",
      "avocado.csv\n",
      "C:/Users/Rajakumar/Desktop/CSV File/Files-main\\avocado.csv\n",
      "boston_house_rent.csv\n",
      "C:/Users/Rajakumar/Desktop/CSV File/Files-main\\boston_house_rent.csv\n",
      "breast cancer.csv\n",
      "C:/Users/Rajakumar/Desktop/CSV File/Files-main\\breast cancer.csv\n",
      "cardio_train.csv\n",
      "C:/Users/Rajakumar/Desktop/CSV File/Files-main\\cardio_train.csv\n",
      "class_distribution.csv\n",
      "C:/Users/Rajakumar/Desktop/CSV File/Files-main\\class_distribution.csv\n",
      "diabetes.csv\n",
      "C:/Users/Rajakumar/Desktop/CSV File/Files-main\\diabetes.csv\n",
      "diabetes_up_down.csv\n",
      "C:/Users/Rajakumar/Desktop/CSV File/Files-main\\diabetes_up_down.csv\n",
      "DT_Students.csv\n",
      "C:/Users/Rajakumar/Desktop/CSV File/Files-main\\DT_Students.csv\n",
      "feature_selection_UNIVARIATE.csv\n",
      "C:/Users/Rajakumar/Desktop/CSV File/Files-main\\feature_selection_UNIVARIATE.csv\n",
      "heart_disease.csv\n",
      "C:/Users/Rajakumar/Desktop/CSV File/Files-main\\heart_disease.csv\n",
      "Hypothesis ttest.csv\n",
      "C:/Users/Rajakumar/Desktop/CSV File/Files-main\\Hypothesis ttest.csv\n",
      "Lesson 10 Regression Analysis Ex 1.csv\n",
      "C:/Users/Rajakumar/Desktop/CSV File/Files-main\\Lesson 10 Regression Analysis Ex 1.csv\n",
      "Mall_Customers.csv\n",
      "C:/Users/Rajakumar/Desktop/CSV File/Files-main\\Mall_Customers.csv\n",
      "matches.csv\n",
      "C:/Users/Rajakumar/Desktop/CSV File/Files-main\\matches.csv\n",
      "raw_data.csv\n",
      "C:/Users/Rajakumar/Desktop/CSV File/Files-main\\raw_data.csv\n",
      "Sales_LinReg.csv\n",
      "C:/Users/Rajakumar/Desktop/CSV File/Files-main\\Sales_LinReg.csv\n",
      "Semester marks.csv\n",
      "C:/Users/Rajakumar/Desktop/CSV File/Files-main\\Semester marks.csv\n",
      "Students_details.csv\n",
      "C:/Users/Rajakumar/Desktop/CSV File/Files-main\\Students_details.csv\n",
      "titanic_train.csv\n",
      "C:/Users/Rajakumar/Desktop/CSV File/Files-main\\titanic_train.csv\n",
      "wine.csv\n",
      "C:/Users/Rajakumar/Desktop/CSV File/Files-main\\wine.csv\n",
      "Admission_Prediction.csv\n",
      "C:/Users/Rajakumar/Desktop/CSV File/Files-main\\target\\Admission_Prediction.csv\n"
     ]
    },
    {
     "ename": "SameFileError",
     "evalue": "'C:/Users/Rajakumar/Desktop/CSV File/Files-main\\\\target\\\\Admission_Prediction.csv' and 'C:/Users/Rajakumar/Desktop/CSV File/Files-main/target\\\\Admission_Prediction.csv' are the same file",
     "output_type": "error",
     "traceback": [
      "\u001b[1;31m---------------------------------------------------------------------------\u001b[0m",
      "\u001b[1;31mSameFileError\u001b[0m                             Traceback (most recent call last)",
      "Cell \u001b[1;32mIn[6], line 15\u001b[0m\n\u001b[0;32m     13\u001b[0m             \u001b[38;5;28;01mif\u001b[39;00m os\u001b[38;5;241m.\u001b[39mpath\u001b[38;5;241m.\u001b[39mexists(filename):\n\u001b[0;32m     14\u001b[0m                 \u001b[38;5;28mprint\u001b[39m(filename)\n\u001b[1;32m---> 15\u001b[0m                 shutil\u001b[38;5;241m.\u001b[39mcopy(filename, target_folder) \n\u001b[0;32m     16\u001b[0m \u001b[38;5;28mprint\u001b[39m(\u001b[38;5;28mlen\u001b[39m(os\u001b[38;5;241m.\u001b[39mlistdir(target_folder)))\n",
      "File \u001b[1;32m~\\AppData\\Local\\anaconda3\\Lib\\shutil.py:419\u001b[0m, in \u001b[0;36mcopy\u001b[1;34m(src, dst, follow_symlinks)\u001b[0m\n\u001b[0;32m    417\u001b[0m \u001b[38;5;28;01mif\u001b[39;00m os\u001b[38;5;241m.\u001b[39mpath\u001b[38;5;241m.\u001b[39misdir(dst):\n\u001b[0;32m    418\u001b[0m     dst \u001b[38;5;241m=\u001b[39m os\u001b[38;5;241m.\u001b[39mpath\u001b[38;5;241m.\u001b[39mjoin(dst, os\u001b[38;5;241m.\u001b[39mpath\u001b[38;5;241m.\u001b[39mbasename(src))\n\u001b[1;32m--> 419\u001b[0m copyfile(src, dst, follow_symlinks\u001b[38;5;241m=\u001b[39mfollow_symlinks)\n\u001b[0;32m    420\u001b[0m copymode(src, dst, follow_symlinks\u001b[38;5;241m=\u001b[39mfollow_symlinks)\n\u001b[0;32m    421\u001b[0m \u001b[38;5;28;01mreturn\u001b[39;00m dst\n",
      "File \u001b[1;32m~\\AppData\\Local\\anaconda3\\Lib\\shutil.py:236\u001b[0m, in \u001b[0;36mcopyfile\u001b[1;34m(src, dst, follow_symlinks)\u001b[0m\n\u001b[0;32m    233\u001b[0m sys\u001b[38;5;241m.\u001b[39maudit(\u001b[38;5;124m\"\u001b[39m\u001b[38;5;124mshutil.copyfile\u001b[39m\u001b[38;5;124m\"\u001b[39m, src, dst)\n\u001b[0;32m    235\u001b[0m \u001b[38;5;28;01mif\u001b[39;00m _samefile(src, dst):\n\u001b[1;32m--> 236\u001b[0m     \u001b[38;5;28;01mraise\u001b[39;00m SameFileError(\u001b[38;5;124m\"\u001b[39m\u001b[38;5;132;01m{!r}\u001b[39;00m\u001b[38;5;124m and \u001b[39m\u001b[38;5;132;01m{!r}\u001b[39;00m\u001b[38;5;124m are the same file\u001b[39m\u001b[38;5;124m\"\u001b[39m\u001b[38;5;241m.\u001b[39mformat(src, dst))\n\u001b[0;32m    238\u001b[0m file_size \u001b[38;5;241m=\u001b[39m \u001b[38;5;241m0\u001b[39m\n\u001b[0;32m    239\u001b[0m \u001b[38;5;28;01mfor\u001b[39;00m i, fn \u001b[38;5;129;01min\u001b[39;00m \u001b[38;5;28menumerate\u001b[39m([src, dst]):\n",
      "\u001b[1;31mSameFileError\u001b[0m: 'C:/Users/Rajakumar/Desktop/CSV File/Files-main\\\\target\\\\Admission_Prediction.csv' and 'C:/Users/Rajakumar/Desktop/CSV File/Files-main/target\\\\Admission_Prediction.csv' are the same file"
     ]
    }
   ],
   "source": [
    "import shutil \n",
    "import os\n",
    "\n",
    "source_folder=\"C:/Users/Rajakumar/Desktop/CSV File/Files-main\"\n",
    "\n",
    "target_folder=\"C:/Users/Rajakumar/Desktop/CSV File/Files-main/target\"\n",
    "\n",
    "for dirs, subdirs, files in os.walk(source_folder):\n",
    "    for file in files:\n",
    "        if file.endswith(\".csv\"):\n",
    "            print(file)\n",
    "            filename = os.path.join(source_folder, dirs, file)\n",
    "            if os.path.exists(filename):\n",
    "                print(filename)\n",
    "                shutil.copy(filename, target_folder) \n",
    "print(len(os.listdir(target_folder)))\n",
    "\n",
    "\n",
    "#some error due to same path"
   ]
  },
  {
   "cell_type": "code",
   "execution_count": 8,
   "id": "dbf2e6b8",
   "metadata": {},
   "outputs": [
    {
     "name": "stdout",
     "output_type": "stream",
     "text": [
      "we have to Data written to raja_data.xlsx successfully.\n"
     ]
    }
   ],
   "source": [
    "import pandas as pd\n",
    "\n",
    "def write_excel(data, excel_file_name):\n",
    "    try:\n",
    "        df = pd.DataFrame(data)\n",
    "        df.to_excel(excel_file_name, index=False)\n",
    "        print(f\"we have to Data written to {excel_file_name} successfully.\")\n",
    "    except Exception as e:\n",
    "        print(f\"Error: {e}\")\n",
    "\n",
    "data_list = [\n",
    "    {'Name': 'raja', 'Age': 22, 'City': 'Greater Noida'},\n",
    "    {'Name': 'Atul', 'Age': 22, 'City': 'Noida'},\n",
    "    {'Name': 'Boby', 'Age': 23, 'City': 'delhi'}\n",
    "]\n",
    "\n",
    "excel_file = \"raja_data.xlsx\"\n",
    "write_excel(data_list, excel_file)\n"
   ]
  },
  {
   "cell_type": "code",
   "execution_count": 10,
   "id": "b2b9fbc1",
   "metadata": {},
   "outputs": [
    {
     "name": "stdout",
     "output_type": "stream",
     "text": [
      "{'frout': 'apple', 'price': 100, 'City': 'jammu_kashmir'}\n"
     ]
    }
   ],
   "source": [
    "def create_a_dictionary(keys, values):\n",
    "    if len(keys) == len(values):\n",
    "        result_dict = dict(zip(keys, values))\n",
    "        return result_dict\n",
    "    else:\n",
    "        print(\"Error\")\n",
    "        return None\n",
    "keys_list = ['frout', 'price', 'City']\n",
    "values_list = ['apple', 100, 'jammu_kashmir']\n",
    "\n",
    "result_dict = create_a_dictionary(keys_list, values_list)\n",
    "\n",
    "if result_dict is not None:\n",
    "    print(result_dict)\n"
   ]
  },
  {
   "cell_type": "code",
   "execution_count": null,
   "id": "ed8d8f4d",
   "metadata": {},
   "outputs": [],
   "source": []
  }
 ],
 "metadata": {
  "kernelspec": {
   "display_name": "Python 3 (ipykernel)",
   "language": "python",
   "name": "python3"
  },
  "language_info": {
   "codemirror_mode": {
    "name": "ipython",
    "version": 3
   },
   "file_extension": ".py",
   "mimetype": "text/x-python",
   "name": "python",
   "nbconvert_exporter": "python",
   "pygments_lexer": "ipython3",
   "version": "3.11.5"
  }
 },
 "nbformat": 4,
 "nbformat_minor": 5
}
